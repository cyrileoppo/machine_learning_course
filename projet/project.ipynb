{
 "cells": [
  {
   "cell_type": "code",
   "id": "initial_id",
   "metadata": {
    "collapsed": true
   },
   "source": [
    "import pandas as pd\n",
    "import numpy as np\n",
    "import matplotlib.pyplot as plt\n",
    "import seaborn as sns\n",
    "import os"
   ],
   "outputs": [],
   "execution_count": null
  },
  {
   "metadata": {},
   "cell_type": "markdown",
   "source": "1. Lecture et fusion de tous les CSV",
   "id": "4bba67783903a4ef"
  },
  {
   "metadata": {},
   "cell_type": "markdown",
   "source": " 1.1.Lecture de tous les CSV dans un dossier",
   "id": "dab0bdfec2ba75eb"
  },
  {
   "metadata": {},
   "cell_type": "code",
   "source": [
    "sns.set(style=\"whitegrid\")\n",
    "folder_path = \"/home/20016340/PycharmProjects/machine_learning_course/projet/categories\"\n",
    "csv_files = [f for f in os.listdir(folder_path) if f.endswith(\".csv\")]\n",
    "df_list = []\n",
    "for file in csv_files:\n",
    "    file_path = os.path.join(folder_path, file)\n",
    "    temp_df = pd.read_csv(file_path)\n",
    "    df_list.append(temp_df)\n",
    "\n",
    "df_combined = pd.concat(df_list, axis=0, ignore_index=True)\n",
    "print(df_combined.info())\n",
    "print(df_combined.head())"
   ],
   "id": "fda3de42fce4e5f9",
   "outputs": [],
   "execution_count": null
  },
  {
   "metadata": {},
   "cell_type": "markdown",
   "source": "2. Nettoyage et transformation (prétraitement)",
   "id": "8fc74c4bd65a34f1"
  },
  {
   "metadata": {},
   "cell_type": "markdown",
   "source": "2.1. Suppression d'une colonne inutile",
   "id": "7d2182f8dbfab339"
  },
  {
   "metadata": {},
   "cell_type": "code",
   "source": [
    "# Supprimer la colonne \"Unnamed: 0\"\n",
    "if \"Unnamed: 0\" in df_combined.columns:\n",
    "    df_combined = df_combined.drop(columns=[\"Unnamed: 0\"])"
   ],
   "id": "dbc2e7a9e036ee27",
   "outputs": [],
   "execution_count": null
  },
  {
   "metadata": {},
   "cell_type": "markdown",
   "source": "2.2. Conversion et nettoyage des colonnes numériques",
   "id": "1f6193664cfdd27e"
  },
  {
   "metadata": {},
   "cell_type": "code",
   "source": [
    "# Nettoyage des colonnes de prix\n",
    "def nettoyer_prix(x):\n",
    "    try:\n",
    "        # Enlève le symbole ₹, les virgules et les espaces superflus\n",
    "        x = x.replace('₹', '').replace(',', '').strip()\n",
    "        return float(x)\n",
    "    except:\n",
    "        return np.nan\n",
    "\n",
    "df_combined['discount_price'] = df_combined['discount_price'].astype(str).apply(nettoyer_prix)\n",
    "df_combined['actual_price'] = df_combined['actual_price'].astype(str).apply(nettoyer_prix)\n",
    "\n",
    "df_combined['ratings'] = pd.to_numeric(df_combined['ratings'], errors='coerce')\n",
    "df_combined['no_of_ratings'] = pd.to_numeric(df_combined['no_of_ratings'], errors='coerce')\n",
    "\n",
    "print(df_combined[['discount_price', 'actual_price', 'ratings', 'no_of_ratings']].head())"
   ],
   "id": "5fd0a44c09ec544e",
   "outputs": [],
   "execution_count": null
  },
  {
   "metadata": {},
   "cell_type": "markdown",
   "source": "2.3. Calcule du pourcentage de réduction",
   "id": "f8b88854a0d757b5"
  },
  {
   "metadata": {},
   "cell_type": "code",
   "source": [
    "# Calcule la réduction en pourcentage à partir de actual_price et discount_price\n",
    "df_combined['reduction_percent'] = ((df_combined['actual_price'] - df_combined['discount_price']) / df_combined['actual_price']) * 100\n",
    "print(df_combined[['actual_price', 'discount_price', 'reduction_percent']].head())"
   ],
   "id": "4603dcd3a801132b",
   "outputs": [],
   "execution_count": null
  },
  {
   "metadata": {},
   "cell_type": "markdown",
   "source": "3. Analyse statistique descriptive\n",
   "id": "8ed55359aab05a23"
  },
  {
   "metadata": {},
   "cell_type": "markdown",
   "source": "3.1. Affichage de statistiques descriptives",
   "id": "4fd20d6659e30a25"
  },
  {
   "metadata": {},
   "cell_type": "code",
   "source": [
    "# Statistiques descriptives pour les colonnes numériques importantes\n",
    "print(df_combined[['actual_price', 'discount_price', 'reduction_percent', 'ratings', 'no_of_ratings']].describe())"
   ],
   "id": "259f592c53c16eac",
   "outputs": [],
   "execution_count": null
  },
  {
   "metadata": {},
   "cell_type": "markdown",
   "source": "3.2. Distribution des prix et du pourcentage de réduction",
   "id": "5df88a89979d6043"
  },
  {
   "metadata": {},
   "cell_type": "code",
   "source": [
    "sns.set(style=\"whitegrid\")\n",
    "\n",
    "# Distribution du prix réel (actual_price)\n",
    "plt.figure(figsize=(10, 5))\n",
    "sns.histplot(df_combined['actual_price'].dropna(), bins=50, kde=True)\n",
    "plt.title(\"Distribution du Prix Réel (actual_price)\")\n",
    "plt.xlabel(\"Prix réel\")\n",
    "plt.ylabel(\"Fréquence\")\n",
    "plt.show()\n",
    "\n",
    "# Distribution du pourcentage de réduction (reduction_percent)\n",
    "plt.figure(figsize=(10, 5))\n",
    "sns.histplot(df_combined['reduction_percent'].dropna(), bins=50, kde=True, color='coral')\n",
    "plt.title(\"Distribution du Pourcentage de Réduction\")\n",
    "plt.xlabel(\"Pourcentage de réduction\")\n",
    "plt.ylabel(\"Fréquence\")\n",
    "plt.show()"
   ],
   "id": "f60d62eeebcaac54",
   "outputs": [],
   "execution_count": null
  },
  {
   "metadata": {},
   "cell_type": "markdown",
   "source": "4) Visualisations avancées",
   "id": "bd306831daf7a9f0"
  },
  {
   "metadata": {},
   "cell_type": "markdown",
   "source": "4.1) Relations entre variables",
   "id": "2793dad4e26738b3"
  },
  {
   "metadata": {},
   "cell_type": "code",
   "source": [
    "plt.figure(figsize=(8, 6))\n",
    "sns.scatterplot(x='actual_price', y='discount_price', data=df_combined, alpha=0.5)\n",
    "plt.title(\"Relation entre Prix Réel et Prix Réduit\")\n",
    "plt.xlabel(\"Prix Réel (actual_price)\")\n",
    "plt.ylabel(\"Prix Réduit (discount_price)\")\n",
    "plt.show()"
   ],
   "id": "a66071ab36974420",
   "outputs": [],
   "execution_count": null
  },
  {
   "metadata": {},
   "cell_type": "code",
   "source": [
    "plt.figure(figsize=(8, 6))\n",
    "sns.scatterplot(x='reduction_percent', y='no_of_ratings', data=df_combined, alpha=0.5)\n",
    "plt.title(\"Relation entre % de Réduction et Nombre d'Évaluations\")\n",
    "plt.xlabel(\"Pourcentage de Réduction\")\n",
    "plt.ylabel(\"Nombre d'Évaluations\")\n",
    "plt.show()"
   ],
   "id": "af5e66834a01f3b7",
   "outputs": [],
   "execution_count": null
  },
  {
   "metadata": {},
   "cell_type": "markdown",
   "source": "4.2) Visualisation de la répartition par catégorie",
   "id": "3657f96c668d8b1c"
  },
  {
   "metadata": {},
   "cell_type": "code",
   "source": [
    "plt.figure(figsize=(12, 6))\n",
    "# On affiche les catégories par ordre décroissant du nombre de produits\n",
    "sns.countplot(data=df_combined, x='main_category',\n",
    "              order=df_combined['main_category'].value_counts().index)\n",
    "plt.title(\"Distribution des Produits par Catégorie Principale\")\n",
    "plt.xlabel(\"Catégorie principale\")\n",
    "plt.ylabel(\"Nombre de produits\")\n",
    "plt.xticks(rotation=45)\n",
    "plt.show()"
   ],
   "id": "dcdbd609a027a11d",
   "outputs": [],
   "execution_count": null
  },
  {
   "metadata": {},
   "cell_type": "markdown",
   "source": "4.3) Matrice de corrélation entre variables numériques",
   "id": "b8443ca7b7685bfd"
  },
  {
   "metadata": {},
   "cell_type": "code",
   "source": [
    "plt.figure(figsize=(10, 8))\n",
    "correlation_matrix = df_combined[['ratings', 'no_of_ratings', 'discount_price',\n",
    "                                  'actual_price', 'reduction_percent']].corr()\n",
    "sns.heatmap(correlation_matrix, annot=True, cmap=\"coolwarm\", fmt=\".2f\")\n",
    "plt.title(\"Matrice de Corrélation entre Variables Numériques\")\n",
    "plt.show()\n"
   ],
   "id": "96b6a245d0ab196b",
   "outputs": [],
   "execution_count": null
  },
  {
   "metadata": {},
   "cell_type": "markdown",
   "source": "5) Analyse additionnelle",
   "id": "3b29a8783d33436e"
  },
  {
   "metadata": {},
   "cell_type": "markdown",
   "source": "5.1) Distribution des ratings",
   "id": "474c7f26cd57b295"
  },
  {
   "metadata": {},
   "cell_type": "code",
   "source": [
    "plt.figure(figsize=(10, 5))\n",
    "sns.histplot(df_combined['ratings'].dropna(), bins=30, kde=True, color='green')\n",
    "plt.title(\"Distribution des Notes (ratings)\")\n",
    "plt.xlabel(\"Note\")\n",
    "plt.ylabel(\"Fréquence\")\n",
    "plt.show()"
   ],
   "id": "9ac2b5bb230b8f6e",
   "outputs": [],
   "execution_count": null
  },
  {
   "metadata": {},
   "cell_type": "markdown",
   "source": "5.2) Analyse de la longueur des descriptions",
   "id": "19e5d8ab601e33d"
  },
  {
   "metadata": {},
   "cell_type": "code",
   "source": [
    "if 'description' in df_combined.columns:\n",
    "    df_combined['description_length'] = df_combined['description'].apply(lambda x: len(str(x)))\n",
    "    plt.figure(figsize=(10, 5))\n",
    "    sns.histplot(df_combined['description_length'], bins=50, kde=True, color='purple')\n",
    "    plt.title(\"Distribution de la Longueur des Descriptions\")\n",
    "    plt.xlabel(\"Nombre de caractères\")\n",
    "    plt.ylabel(\"Fréquence\")\n",
    "    plt.show()"
   ],
   "id": "3b93656b89f7aef",
   "outputs": [],
   "execution_count": null
  }
 ],
 "metadata": {
  "kernelspec": {
   "display_name": "Python 3",
   "language": "python",
   "name": "python3"
  },
  "language_info": {
   "codemirror_mode": {
    "name": "ipython",
    "version": 2
   },
   "file_extension": ".py",
   "mimetype": "text/x-python",
   "name": "python",
   "nbconvert_exporter": "python",
   "pygments_lexer": "ipython2",
   "version": "2.7.6"
  }
 },
 "nbformat": 4,
 "nbformat_minor": 5
}
