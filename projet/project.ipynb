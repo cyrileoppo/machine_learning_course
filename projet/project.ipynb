{
 "cells": [
  {
   "cell_type": "code",
   "id": "initial_id",
   "metadata": {
    "collapsed": true
   },
   "source": [
    "import pandas as pd\n",
    "import numpy as np\n",
    "import matplotlib.pyplot as plt\n",
    "import seaborn as sns\n",
    "import os"
   ],
   "outputs": [],
   "execution_count": null
  },
  {
   "metadata": {},
   "cell_type": "markdown",
   "source": "1. Lecture et fusion de tous les CSV",
   "id": "4bba67783903a4ef"
  },
  {
   "metadata": {},
   "cell_type": "markdown",
   "source": " 1.1.Lecture de tous les CSV dans un dossier",
   "id": "dab0bdfec2ba75eb"
  },
  {
   "metadata": {},
   "cell_type": "code",
   "source": [
    "sns.set(style=\"whitegrid\")\n",
    "folder_path = \"/Users/cyrileopposite/Desktop/Python/machine_learning/projet/categories\"\n",
    "csv_files = [f for f in os.listdir(folder_path) if f.endswith(\".csv\")]\n",
    "df_list = []\n",
    "for file in csv_files:\n",
    "    file_path = os.path.join(folder_path, file)\n",
    "    temp_df = pd.read_csv(file_path)\n",
    "    df_list.append(temp_df)\n",
    "\n",
    "df_combined = pd.concat(df_list, axis=0, ignore_index=True)\n",
    "print(df_combined.info())\n",
    "print(df_combined.head())"
   ],
   "id": "fda3de42fce4e5f9",
   "outputs": [],
   "execution_count": null
  },
  {
   "metadata": {},
   "cell_type": "markdown",
   "source": "2. Nettoyage et transformation (prétraitement)",
   "id": "8fc74c4bd65a34f1"
  },
  {
   "metadata": {},
   "cell_type": "markdown",
   "source": "2.1. Suppression d'une colonne inutile",
   "id": "7d2182f8dbfab339"
  },
  {
   "metadata": {},
   "cell_type": "code",
   "source": [
    "# Supprimer la colonne \"Unnamed: 0\"\n",
    "if \"Unnamed: 0\" in df_combined.columns:\n",
    "    df_combined = df_combined.drop(columns=[\"Unnamed: 0\"])"
   ],
   "id": "dbc2e7a9e036ee27",
   "outputs": [],
   "execution_count": null
  },
  {
   "metadata": {},
   "cell_type": "markdown",
   "source": "2.2. Conversion et nettoyage des colonnes numériques",
   "id": "1f6193664cfdd27e"
  },
  {
   "metadata": {},
   "cell_type": "code",
   "source": [
    "# Nettoyage des colonnes de prix\n",
    "def nettoyer_prix(x):\n",
    "    try:\n",
    "        # Enlève le symbole ₹, les virgules et les espaces superflus\n",
    "        x = x.replace('₹', '').replace(',', '').strip()\n",
    "        return float(x)\n",
    "    except:\n",
    "        return np.nan\n",
    "\n",
    "df_combined['discount_price'] = df_combined['discount_price'].astype(str).apply(nettoyer_prix)\n",
    "df_combined['actual_price'] = df_combined['actual_price'].astype(str).apply(nettoyer_prix)\n",
    "\n",
    "df_combined['ratings'] = pd.to_numeric(df_combined['ratings'], errors='coerce')\n",
    "df_combined['no_of_ratings'] = pd.to_numeric(df_combined['no_of_ratings'], errors='coerce')\n",
    "\n",
    "print(df_combined[['discount_price', 'actual_price', 'ratings', 'no_of_ratings']].head())"
   ],
   "id": "5fd0a44c09ec544e",
   "outputs": [],
   "execution_count": null
  },
  {
   "metadata": {},
   "cell_type": "markdown",
   "source": "2.3. Calcule du pourcentage de réduction",
   "id": "f8b88854a0d757b5"
  },
  {
   "metadata": {},
   "cell_type": "code",
   "source": [
    "# Calcule la réduction en pourcentage à partir de actual_price et discount_price\n",
    "df_combined['reduction_percent'] = ((df_combined['actual_price'] - df_combined['discount_price']) / df_combined['actual_price']) * 100\n",
    "print(df_combined[['actual_price', 'discount_price', 'reduction_percent']].head())"
   ],
   "id": "4603dcd3a801132b",
   "outputs": [],
   "execution_count": null
  },
  {
   "metadata": {},
   "cell_type": "markdown",
   "source": "3. Analyse statistique descriptive\n",
   "id": "8ed55359aab05a23"
  },
  {
   "metadata": {},
   "cell_type": "markdown",
   "source": "3.1. Affichage de statistiques descriptives",
   "id": "4fd20d6659e30a25"
  },
  {
   "metadata": {},
   "cell_type": "code",
   "source": [
    "# Statistiques descriptives pour les colonnes numériques importantes\n",
    "print(df_combined[['actual_price', 'discount_price', 'reduction_percent', 'ratings', 'no_of_ratings']].describe())"
   ],
   "id": "259f592c53c16eac",
   "outputs": [],
   "execution_count": null
  },
  {
   "metadata": {},
   "cell_type": "markdown",
   "source": "3.2. Distribution des prix et du pourcentage de réduction",
   "id": "5df88a89979d6043"
  },
  {
   "metadata": {},
   "cell_type": "code",
   "source": [
    "sns.set(style=\"whitegrid\")\n",
    "\n",
    "# Distribution du prix réel (actual_price)\n",
    "plt.figure(figsize=(10, 5))\n",
    "sns.histplot(df_combined['actual_price'].dropna(), bins=50, kde=True)\n",
    "plt.title(\"Distribution du Prix Réel (actual_price)\")\n",
    "plt.xlabel(\"Prix réel\")\n",
    "plt.ylabel(\"Fréquence\")\n",
    "plt.show()\n",
    "\n",
    "# Distribution du pourcentage de réduction (reduction_percent)\n",
    "plt.figure(figsize=(10, 5))\n",
    "sns.histplot(df_combined['reduction_percent'].dropna(), bins=50, kde=True, color='coral')\n",
    "plt.title(\"Distribution du Pourcentage de Réduction\")\n",
    "plt.xlabel(\"Pourcentage de réduction\")\n",
    "plt.ylabel(\"Fréquence\")\n",
    "plt.show()"
   ],
   "id": "f60d62eeebcaac54",
   "outputs": [],
   "execution_count": null
  }
 ],
 "metadata": {
  "kernelspec": {
   "display_name": "Python 3",
   "language": "python",
   "name": "python3"
  },
  "language_info": {
   "codemirror_mode": {
    "name": "ipython",
    "version": 2
   },
   "file_extension": ".py",
   "mimetype": "text/x-python",
   "name": "python",
   "nbconvert_exporter": "python",
   "pygments_lexer": "ipython2",
   "version": "2.7.6"
  }
 },
 "nbformat": 4,
 "nbformat_minor": 5
}
